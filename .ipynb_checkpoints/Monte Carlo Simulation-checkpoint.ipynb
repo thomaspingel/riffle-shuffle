{
 "cells": [
  {
   "cell_type": "code",
   "execution_count": 4,
   "metadata": {
    "collapsed": true
   },
   "outputs": [],
   "source": [
    "import numpy as np\n",
    "from scipy.stats import binom, itemfreq\n",
    "import matplotlib.pyplot as plt"
   ]
  },
  {
   "cell_type": "code",
   "execution_count": 10,
   "metadata": {
    "collapsed": true
   },
   "outputs": [],
   "source": [
    "def riffle(deck,n_times=1):\n",
    "    \n",
    "    n_cards = deck.size\n",
    "    \n",
    "    for j in range(n_times):\n",
    "        # Split the deck into two piles (left and right) according to the binomial distribution at position \"pos\"\n",
    "        pos = binom(n_cards,.5).rvs(1)[0]\n",
    "        left, right = deck[:pos].copy(), deck[pos:].copy()\n",
    "        \n",
    "        # Initialize the deck.  Cards will be placed back here.\n",
    "        deck[:] = -1\n",
    "\n",
    "        # The probability of grabbing the card from left or right\n",
    "        # is proportional to the size of that pile\n",
    "        for i in range(n_cards):\n",
    "            p = np.random.rand()\n",
    "            thresh = left.size / (left.size + right.size)\n",
    "            if p < thresh:\n",
    "                deck[i] = left[0]\n",
    "                left = np.delete(left,0)\n",
    "            else:\n",
    "                deck[i] = right[0]\n",
    "                right = np.delete(right,0)\n",
    "                \n",
    "    return deck"
   ]
  },
  {
   "cell_type": "code",
   "execution_count": 11,
   "metadata": {
    "collapsed": false
   },
   "outputs": [],
   "source": [
    "deck = np.arange(52)\n",
    "deck = riffle(deck)\n"
   ]
  },
  {
   "cell_type": "code",
   "execution_count": 12,
   "metadata": {
    "collapsed": false
   },
   "outputs": [
    {
     "name": "stdout",
     "output_type": "stream",
     "text": [
      "[24  0 25 26  1 27  2 28  3 29  4  5 30  6  7  8  9 31 10 32 33 34 35 36 37\n",
      " 38 11 12 13 39 40 14 15 41 16 17 42 18 19 20 21 43 44 22 45 46 23 47 48 49\n",
      " 50 51]\n"
     ]
    }
   ],
   "source": [
    "print(deck)"
   ]
  },
  {
   "cell_type": "code",
   "execution_count": null,
   "metadata": {
    "collapsed": true
   },
   "outputs": [],
   "source": []
  }
 ],
 "metadata": {
  "kernelspec": {
   "display_name": "Python 3",
   "language": "python",
   "name": "python3"
  },
  "language_info": {
   "codemirror_mode": {
    "name": "ipython",
    "version": 3
   },
   "file_extension": ".py",
   "mimetype": "text/x-python",
   "name": "python",
   "nbconvert_exporter": "python",
   "pygments_lexer": "ipython3",
   "version": "3.5.2"
  }
 },
 "nbformat": 4,
 "nbformat_minor": 0
}
